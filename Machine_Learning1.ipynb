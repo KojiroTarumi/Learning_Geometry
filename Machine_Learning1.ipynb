{
 "cells": [
  {
   "cell_type": "markdown",
   "metadata": {},
   "source": [
    "基礎知識(AI)\n",
    "\n",
    "画像, 音声(時系列), 自然言語, センサー　→　数値　→　機械学習(入力x, 出力y)\n",
    "ex) 自然言語：word2vec\n",
    "機械学習：入力xと出力yの関係性(規則性)を見つける\n",
    "機械学習中のアルゴリズム：ディープラーニング, SVM(Suport vector machine), 単回帰分析\n",
    "\n",
    "機械学習に必要な数学：微積分, 線形代数, 確率統計\n",
    "\n",
    "機械学習の3大トピック：教師あり学習　(入力x, 出力y)\n",
    "　　　　　　　　　　　　- 回帰：数値を予測 ex)広さ(x) → 家賃(y)\n",
    "　　　　　　　　　　　　‐ 分類：カテゴリを予測 ex)赤ワイン or 白ワイン\n",
    "　　　　　　　　　　　　　　　　アルコール(x) → 種類(y)\n",
    ", 教師なし学習, 強化学習"
   ]
  },
  {
   "cell_type": "markdown",
   "metadata": {},
   "source": [
    "持っているデータ内で数値を予測：内挿　←機械学習はこれのみ\n",
    "持っているデータ外で数値を予測：外挿"
   ]
  },
  {
   "cell_type": "markdown",
   "metadata": {},
   "source": [
    "1微分は何が求まるか？　「接線の傾き」\n",
    "2微分は何に使えるか？　「傾き0」を利用することである関数(ex誤差)が最小(もしくは最大)\n",
    "　 　　　　　　　　　　　となる点が求まる\n",
    "3微分(導関数)を求めるには？　2点を通る直線の傾き：fx2 - fx1 / x2 - x1\n",
    "　　　　　　　　　　　　　　　　　　　　　　　　　(fxの増加量/xの増加量)\n",
    "\n",
    "4微分(導関数)を求めるには？　極限lim←動きを表す　x→0\n",
    "5微分の公式　 (1)' = 0\n",
    "　　　　　　　(x)' = 1\n",
    "       　　　　  (x^2) = 2x\n",
    "\n",
    "ex) (3x^2 + 4x + 7)' = (3x^2)' + (4x)' + (7)'\n",
    "\n",
    "= 3 * (x^2)' + 4 * (x)' + 7 * (1)'\n",
    "\n",
    "=6x+4\n",
    "\n",
    "6偏微分：多変数の微分 d / d * a ：a以外を定数だと仮定して微分\n",
    "\n"
   ]
  },
  {
   "cell_type": "code",
   "execution_count": null,
   "metadata": {},
   "outputs": [],
   "source": [
    "単回帰分析\n",
    "\n",
    "問題：家賃の予測\n",
    "　　　y：出力変数\n",
    "　　　x：入力変数（広さ、距離、...）\n",
    "1学習\n",
    "\n",
    "\n",
    "2推論\n"
   ]
  }
 ],
 "metadata": {
  "kernelspec": {
   "display_name": "Python 3",
   "language": "python",
   "name": "python3"
  },
  "language_info": {
   "codemirror_mode": {
    "name": "ipython",
    "version": 3
   },
   "file_extension": ".py",
   "mimetype": "text/x-python",
   "name": "python",
   "nbconvert_exporter": "python",
   "pygments_lexer": "ipython3",
   "version": "3.7.0"
  }
 },
 "nbformat": 4,
 "nbformat_minor": 2
}
